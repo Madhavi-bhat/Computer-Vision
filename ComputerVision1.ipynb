{
  "nbformat": 4,
  "nbformat_minor": 0,
  "metadata": {
    "colab": {
      "name": "ComputerVision1.ipynb",
      "provenance": [],
      "collapsed_sections": [],
      "include_colab_link": true
    },
    "kernelspec": {
      "name": "python3",
      "display_name": "Python 3"
    }
  },
  "cells": [
    {
      "cell_type": "markdown",
      "metadata": {
        "id": "view-in-github",
        "colab_type": "text"
      },
      "source": [
        "<a href=\"https://colab.research.google.com/github/Madhavi-bhat/Computer-Vision/blob/master/ComputerVision1.ipynb\" target=\"_parent\"><img src=\"https://colab.research.google.com/assets/colab-badge.svg\" alt=\"Open In Colab\"/></a>"
      ]
    },
    {
      "cell_type": "code",
      "metadata": {
        "id": "oXRGoGCCJsOp",
        "colab_type": "code",
        "colab": {}
      },
      "source": [
        ""
      ],
      "execution_count": 0,
      "outputs": []
    },
    {
      "cell_type": "markdown",
      "metadata": {
        "id": "EpWxRSpWJy-P",
        "colab_type": "text"
      },
      "source": [
        "Computer vision with ML and DL\n",
        "* data and tagging ( tag data means labled data )\n",
        "* To have tagged data send it to network , that we are able to get pattern out of it\n",
        "* Scalability and repetition - computers or algos are experts & humans cant do\n",
        "data , variations in the data point , actual lables of data which can be used for prediction -- tarining of the data -- test - upload new image - check for the accuracy --- deploy the model ( the most important in CV )\n",
        "* more types of images - object detection \n",
        "* image classification one image - yes or no ( is it a cat or not )\n",
        "\n",
        "16/11/2019\n",
        "* Image processing and image manipulation - Open CV\n",
        "* https://cloud.google.com/vision/overview/docs/get-started\n",
        "* https://cloud.google.com/vision/docs/object-localizer#vision_localize_objects-python\n",
        "* https://cloud.google.com/vision/automl/docs/quickstart#train_your_model\n",
        "* https://developers.google.com/ml-kit/vision/object-detection-and-tracking\n",
        "\n",
        "Instance Segmentation\n",
        "* Localization - Approx boundry, Bounding box\n",
        "* Segmentation - Exact Boundry\n",
        "Semantic Segmentation\n",
        "* https://www.kaggle.com/c/histopathologic-cancer-detection/notebooks\n",
        "* https://docs.google.com/spreadsheets/d/1YgAQH7tDc5Ri_VkWj3QaMCeOcBAdCl-uv-Bhh2rKmJY/edit#gid=0\n",
        "* https://github.com/tesseract-ocr/tesseract\n",
        "* https://www.kaggle.com/c/understanding_cloud_organizationhttps://www.kaggle.com/c/understanding_cloud_organization\n",
        "* https://www.kaggle.com/c/airbus-ship-detection\n",
        "* https://github.com/CMU-Perceptual-Computing-Lab/openpose\n",
        "* https://medium.com/@iamvarman/how-to-calculate-the-number-of-parameters-in-the-cnn-5bd55364d7ca\n",
        "* Ludwig\n",
        "* https://www.youtube.com/watch?v=4MKAf6YX_7M\n",
        "\n",
        "\n",
        "\n",
        "\n",
        "\n",
        "\n",
        "\n",
        "\n",
        "\n",
        "\n",
        "\n",
        "\n",
        "\n",
        "\n",
        "\n"
      ]
    },
    {
      "cell_type": "markdown",
      "metadata": {
        "id": "-Kp_kNeyEI3Q",
        "colab_type": "text"
      },
      "source": [
        ""
      ]
    },
    {
      "cell_type": "markdown",
      "metadata": {
        "id": "rcQYUSnYELXB",
        "colab_type": "text"
      },
      "source": [
        ""
      ]
    },
    {
      "cell_type": "markdown",
      "metadata": {
        "id": "uy79dgnVe_pn",
        "colab_type": "text"
      },
      "source": [
        ""
      ]
    }
  ]
}