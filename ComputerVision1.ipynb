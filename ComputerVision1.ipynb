{
  "nbformat": 4,
  "nbformat_minor": 0,
  "metadata": {
    "colab": {
      "name": "ComputerVision1.ipynb",
      "provenance": [],
      "collapsed_sections": []
    },
    "kernelspec": {
      "name": "python3",
      "display_name": "Python 3"
    }
  },
  "cells": [
    {
      "cell_type": "code",
      "metadata": {
        "id": "oXRGoGCCJsOp",
        "colab_type": "code",
        "colab": {}
      },
      "source": [
        ""
      ],
      "execution_count": 0,
      "outputs": []
    },
    {
      "cell_type": "markdown",
      "metadata": {
        "id": "EpWxRSpWJy-P",
        "colab_type": "text"
      },
      "source": [
        "Computer vision with ML and DL\n",
        "* data and tagging ( tag data means labled data )\n",
        "* To have tagged data send it to network , that we are able to get pattern out of it\n",
        "* Scalability and repetition - computers or algos are experts & humans cant do\n",
        "data , variations in the data point , actual lables of data which can be used for prediction -- tarining of the data -- test - upload new image - check for the accuracy --- deploy the model ( the most important in CV )\n",
        "* more types of images - object detection \n",
        "* image classification one image - yes or no ( is it a cat or not )\n",
        "*Conituned\n",
        "\n",
        "\n",
        "\n",
        "\n",
        "\n",
        "\n"
      ]
    },
    {
      "cell_type": "code",
      "metadata": {
        "id": "-C35BWL2LlMk",
        "colab_type": "code",
        "colab": {}
      },
      "source": [
        ""
      ],
      "execution_count": 0,
      "outputs": []
    },
    {
      "cell_type": "markdown",
      "metadata": {
        "id": "uy79dgnVe_pn",
        "colab_type": "text"
      },
      "source": [
        ""
      ]
    }
  ]
}
